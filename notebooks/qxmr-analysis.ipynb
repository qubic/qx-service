{
 "cells": [
  {
   "cell_type": "code",
   "metadata": {
    "collapsed": true,
    "ExecuteTime": {
     "end_time": "2025-10-22T18:06:24.764172477Z",
     "start_time": "2025-10-22T18:06:24.320644904Z"
    }
   },
   "source": [
    "USE {\n",
    "    dependencies {\n",
    "        implementation(\"org.springframework.boot\", \"spring-boot-starter-data-jdbc\", \"3.5.6\")\n",
    "        implementation(\"org.postgresql:postgresql:42.7.7\")\n",
    "    }\n",
    "}"
   ],
   "outputs": [],
   "execution_count": 1
  },
  {
   "metadata": {
    "ExecuteTime": {
     "end_time": "2025-10-22T18:06:25.599388263Z",
     "start_time": "2025-10-22T18:06:24.770883011Z"
    }
   },
   "cell_type": "code",
   "source": "%use dataframe",
   "outputs": [],
   "execution_count": 2
  },
  {
   "metadata": {
    "ExecuteTime": {
     "end_time": "2025-10-22T18:06:26.784152579Z",
     "start_time": "2025-10-22T18:06:25.607461110Z"
    }
   },
   "cell_type": "code",
   "source": [
    "val USER = System.getenv(\"DB_USER\")\n",
    "val PASS = System.getenv(\"DB_PASS\")\n",
    "val URL = System.getenv(\"DB_URL\")\n",
    "\n",
    "println(\"$USER@$URL\")\n",
    "//println(\"$PASS\")\n",
    "\n",
    "val dbConfig = DbConnectionConfig(URL, USER, PASS)\n",
    "\n",
    "val assetName = \"QXMR\"\n",
    "val issuer = \"QXMRTKAIIGLUREPIQPCMHCKWSIPDTUYFCFNYXQLTECSUJVYEMMDELBMDOEYB\"\n",
    "\n",
    "val query = \"\"\"\n",
    "select t.tick_time, tx.hash as transaction_hash, taker.identity as taker, maker.identity as maker, t.bid, t.price, t.number_of_shares\n",
    "    from trades t\n",
    "        join transactions tx on t.transaction_id = tx.id\n",
    "        join entities taker on tx.source_entity_id = taker.id\n",
    "        join entities maker on t.maker_id = maker.id\n",
    "        join assets a on t.asset_id = a.id\n",
    "    where a.issuer = '${issuer}' and a.name = '${assetName}'\n",
    "    order by tick_time desc, t.id desc\n",
    "\"\"\"\n",
    "\n",
    "val df = DataFrame.readSqlQuery(dbConfig, query)\n",
    "df.writeCsv(\"qxmr-trades.csv\")\n"
   ],
   "outputs": [
    {
     "name": "stdout",
     "output_type": "stream",
     "text": [
      "qx@jdbc:postgresql://localhost:5432/qx\n"
     ]
    }
   ],
   "execution_count": 3
  }
 ],
 "metadata": {
  "kernelspec": {
   "display_name": "Kotlin",
   "language": "kotlin",
   "name": "kotlin"
  },
  "language_info": {
   "name": "kotlin",
   "version": "2.2.20-Beta2",
   "mimetype": "text/x-kotlin",
   "file_extension": ".kt",
   "pygments_lexer": "kotlin",
   "codemirror_mode": "text/x-kotlin",
   "nbconvert_exporter": ""
  },
  "ktnbPluginMetadata": {
   "projectDependencies": [
    "qx-api"
   ],
   "projectLibraries": false
  }
 },
 "nbformat": 4,
 "nbformat_minor": 0
}
